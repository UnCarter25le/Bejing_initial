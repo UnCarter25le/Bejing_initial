{
 "cells": [
  {
   "cell_type": "code",
   "execution_count": null,
   "metadata": {},
   "outputs": [],
   "source": [
    "參考網址\n",
    "https://www.binpress.com/tutorial/manipulating-pdfs-with-python/167"
   ]
  },
  {
   "cell_type": "code",
   "execution_count": null,
   "metadata": {},
   "outputs": [],
   "source": [
    "!pip install PyPDF2"
   ]
  },
  {
   "cell_type": "markdown",
   "metadata": {},
   "source": [
    "# 分割pdf檔成一頁一頁pdf"
   ]
  },
  {
   "cell_type": "code",
   "execution_count": null,
   "metadata": {
    "scrolled": true
   },
   "outputs": [],
   "source": [
    "from PyPDF2 import PdfFileWriter, PdfFileReader "
   ]
  },
  {
   "cell_type": "code",
   "execution_count": null,
   "metadata": {},
   "outputs": [],
   "source": [
    "from PyPDF2 import PdfFileWriter, PdfFileReader \n",
    "#將pdf檔案讀取進來\n",
    "infile = PdfFileReader(open('曹颖甫医案.pdf', 'rb'))\n",
    "\n",
    "print(infile.getNumPages())   #印出總共分拆了幾頁\n",
    "for i in xrange(infile.getNumPages()):\n",
    "                              #建立抓取頁面的物件p\n",
    "    p = infile.getPage(i)\n",
    "                              #建立pdf寫出物件 outfile\n",
    "    outfile = PdfFileWriter()\n",
    "    outfile.addPage(p)\n",
    "                            #%d  %i 用到了format命名法；02代表兩位數命名、03代表三位數命名\n",
    "    with open('./yes123/page-%03d.pdf' % i, 'wb') as f:\n",
    "        outfile.write(f)"
   ]
  },
  {
   "cell_type": "markdown",
   "metadata": {},
   "source": [
    "# 將pdf檔轉存jpg___請注意因為程式沒有以多執行緒寫，所以不容許讀取過多的pdf檔案。。。"
   ]
  },
  {
   "cell_type": "code",
   "execution_count": null,
   "metadata": {},
   "outputs": [],
   "source": [
    "http://junyiseo.com/python/468.html"
   ]
  },
  {
   "cell_type": "code",
   "execution_count": null,
   "metadata": {
    "scrolled": true
   },
   "outputs": [],
   "source": [
    "!pip install wand"
   ]
  },
  {
   "cell_type": "code",
   "execution_count": null,
   "metadata": {},
   "outputs": [],
   "source": [
    "from wand.image import Image"
   ]
  },
  {
   "cell_type": "code",
   "execution_count": null,
   "metadata": {},
   "outputs": [],
   "source": [
    "#coding:utf-8\n",
    "from wand.image import Image\n",
    "import os\n",
    "\n",
    "path = './yes123/'\n",
    "\n",
    "# 将pdf文件转为jpg图片文件\n",
    "# ./PDF_FILE_NAME 为pdf文件路径和名称\n",
    "\n",
    "organize_image = []\n",
    "req_image = []\n",
    "for file in os.listdir(path): \n",
    "    print(path+file)      #看讀取到哪個檔案+路徑\n",
    "    organize_image.append(path+file)\n",
    "    \n",
    "#很重要，將python讀取到的檔案，按照檔名順序排列；也必須是三位數的檔名，因為百位數是0，才會把2位數的圖檔排在三位數圖檔的前面。\n",
    "for filenameS in sorted(organize_image):\n",
    "    image_pdf = Image(filename= filenameS,resolution=300)\n",
    "    image_jpeg = image_pdf.convert('jpg')\n",
    "# # wand已经将PDF中所有的独立页面都转成了独立的二进制图像对象。我们可以遍历这个大对象，并把它们加入到req_image序列中去。\n",
    "    for img in image_jpeg.sequence:\n",
    "        img_page = Image(image=img)\n",
    "        req_image.append(img_page.make_blob('jpg'))\n",
    "        \n",
    "        print(len(req_image))  # 看完成多少份\n",
    "\n",
    "# # 遍历req_image,保存为图片文件。這邊req_image存放的元素，就是按檔名順序排好的pdf轉jpg檔案\n",
    "i = 0                  \n",
    "for img in req_image:\n",
    "    ff = open(\"./yes1234/%03d.jpg \"%i,'wb')\n",
    "    ff.write(img)\n",
    "    ff.close()\n",
    "    i += 1\n"
   ]
  },
  {
   "cell_type": "markdown",
   "metadata": {},
   "source": [
    "# 將醫案圖檔，按頁碼重新命名"
   ]
  },
  {
   "cell_type": "code",
   "execution_count": null,
   "metadata": {},
   "outputs": [],
   "source": [
    "!pip install pillow   #aka PIL"
   ]
  },
  {
   "cell_type": "markdown",
   "metadata": {},
   "source": [
    "## 方法一"
   ]
  },
  {
   "cell_type": "code",
   "execution_count": null,
   "metadata": {},
   "outputs": [],
   "source": [
    "import os\n",
    "path = './醫案/'\n",
    "savepath = './yes123'\n",
    "for dirname, dirnames, filenames in os.walk(path):\n",
    "    # print path to all subdirectories first.\n",
    "    for subdirname in dirnames:\n",
    "        print(os.path.join(dirname, subdirname))\n",
    "\n",
    "    # print path to all filenames.\n",
    "    for filename in filenames:\n",
    "        print(os.path.join(dirname, filename))"
   ]
  },
  {
   "cell_type": "markdown",
   "metadata": {},
   "source": [
    "## 方法二"
   ]
  },
  {
   "cell_type": "code",
   "execution_count": null,
   "metadata": {},
   "outputs": [],
   "source": [
    "#coding:utf-8\n",
    "from wand.image import Image\n",
    "from PIL import Image\n",
    "import os\n",
    "\n",
    "#將符合醫案的圖片檔，放在另一資料夾。85~290頁\n",
    "path = './醫案/'\n",
    "\n",
    "savepath = './yes1235'\n",
    "\n",
    "handle = []\n",
    "req_image = []\n",
    "\n",
    "for file in os.listdir(path): \n",
    "    filepath = path + file\n",
    "    handle.append(filepath)\n",
    "    \n",
    "# 將檔案照檔名排序！！\n",
    "for row in sorted(handle):\n",
    "    img = Image.open(row)\n",
    "    req_image.append(img)\n",
    "\n",
    "i = 70 # 醫案的起始頁碼為70\n",
    "for picture in req_image:\n",
    "    picture.save(\"./yes1235/ %02d.jpg\" %i)\n",
    "    picture.close()\n",
    "    i += 1"
   ]
  }
 ],
 "metadata": {
  "kernelspec": {
   "display_name": "Python 3",
   "language": "python",
   "name": "python3"
  },
  "language_info": {
   "codemirror_mode": {
    "name": "ipython",
    "version": 2
   },
   "file_extension": ".py",
   "mimetype": "text/x-python",
   "name": "python",
   "nbconvert_exporter": "python",
   "pygments_lexer": "ipython2",
   "version": "2.7.12"
  }
 },
 "nbformat": 4,
 "nbformat_minor": 2
}
